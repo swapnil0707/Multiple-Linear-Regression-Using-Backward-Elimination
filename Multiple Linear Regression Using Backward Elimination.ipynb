{
 "cells": [
  {
   "cell_type": "code",
   "execution_count": 2,
   "metadata": {},
   "outputs": [
    {
     "name": "stdout",
     "output_type": "stream",
     "text": [
      "Score without backward elimination: 0.9347068473282446\n",
      "Score with backward elimination: 0.9474386447268482\n"
     ]
    },
    {
     "name": "stderr",
     "output_type": "stream",
     "text": [
      "C:\\Users\\User\\Anaconda3\\lib\\site-packages\\sklearn\\preprocessing\\_encoders.py:371: FutureWarning: The handling of integer data will change in version 0.22. Currently, the categories are determined based on the range [0, max(values)], while in the future they will be determined based on the unique values.\n",
      "If you want the future behaviour and silence this warning, you can specify \"categories='auto'\".\n",
      "In case you used a LabelEncoder before this OneHotEncoder to convert the categories to integers, then you can now use the OneHotEncoder directly.\n",
      "  warnings.warn(msg, FutureWarning)\n",
      "C:\\Users\\User\\Anaconda3\\lib\\site-packages\\sklearn\\preprocessing\\_encoders.py:392: DeprecationWarning: The 'categorical_features' keyword is deprecated in version 0.20 and will be removed in 0.22. You can use the ColumnTransformer instead.\n",
      "  \"use the ColumnTransformer instead.\", DeprecationWarning)\n"
     ]
    }
   ],
   "source": [
    "# Multiple Linear Regression Using Backward Elimination Based On p-values\n",
    "\n",
    "# Importing the libraries\n",
    "import numpy as np\n",
    "import matplotlib.pyplot as plt\n",
    "import pandas as pd\n",
    "\n",
    "# Importing the dataset\n",
    "dataset = pd.read_csv('50_Startups.csv')\n",
    "X = dataset.iloc[:, :-1].values\n",
    "y = dataset.iloc[:, 4].values\n",
    "\n",
    "# Encoding categorical data\n",
    "from sklearn.preprocessing import LabelEncoder, OneHotEncoder\n",
    "labelencoder = LabelEncoder()\n",
    "X[:, 3] = labelencoder.fit_transform(X[:, 3])\n",
    "onehotencoder = OneHotEncoder(categorical_features = [3])\n",
    "X = onehotencoder.fit_transform(X).toarray()\n",
    "\n",
    "# Avoiding the Dummy Variable Trap\n",
    "X = X[:, 1:]\n",
    "\n",
    "# Splitting the dataset into the Training set and Test set\n",
    "from sklearn.model_selection import train_test_split\n",
    "X_train, X_test, y_train, y_test = train_test_split(X, y, test_size = 0.2, random_state = 0)\n",
    "\n",
    "# Fitting Multiple Linear Regression to the Training set\n",
    "from sklearn.linear_model import LinearRegression\n",
    "regressor = LinearRegression()\n",
    "regressor.fit(X_train, y_train)\n",
    "\n",
    "# Predicting the Test set results\n",
    "y_pred = regressor.predict(X_test)\n",
    "\n",
    "\n",
    "# Backward Elimination\n",
    "import statsmodels.api as sn\n",
    "X_test_red = sn.add_constant(X_test)\n",
    "X_train_red = sn.add_constant(X_train)\n",
    "\n",
    "\"\"\"\n",
    "OR\n",
    "X = np.column_stack(np.ones((len(X), 1)), X)\n",
    "\"\"\"\n",
    "\n",
    "import statsmodels.formula.api as sm\n",
    "\n",
    "max_val = 1\n",
    "sl = 0.05\n",
    "while(max_val > sl):\n",
    "    regressor_ols = sm.OLS(endog = y_train, exog = X_train_red).fit()\n",
    "    a = pd.Series(regressor_ols.pvalues)\n",
    "    max_val = a.max()\n",
    "    if(a.max() > sl):\n",
    "        a = a[a == a.max()]\n",
    "        a = np.array(a.index)\n",
    "        X_train_red = np.delete(X_train_red, a, axis = 1)\n",
    "        X_test_red = np.delete(X_test_red, a, axis = 1)\n",
    "        \n",
    "y_pred_elim = regressor_ols.predict(X_test_red)\n",
    "\n",
    "from sklearn.metrics import r2_score\n",
    "print(\"Score without backward elimination: {}\".format(r2_score(y_test, y_pred)))\n",
    "print(\"Score with backward elimination: {}\".format(r2_score(y_test, y_pred_elim)))"
   ]
  },
  {
   "cell_type": "code",
   "execution_count": null,
   "metadata": {},
   "outputs": [],
   "source": []
  }
 ],
 "metadata": {
  "kernelspec": {
   "display_name": "Python 3",
   "language": "python",
   "name": "python3"
  },
  "language_info": {
   "codemirror_mode": {
    "name": "ipython",
    "version": 3
   },
   "file_extension": ".py",
   "mimetype": "text/x-python",
   "name": "python",
   "nbconvert_exporter": "python",
   "pygments_lexer": "ipython3",
   "version": "3.7.3"
  }
 },
 "nbformat": 4,
 "nbformat_minor": 2
}
